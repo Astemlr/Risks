{
 "cells": [
  {
   "cell_type": "code",
   "execution_count": 4,
   "metadata": {},
   "outputs": [
    {
     "name": "stderr",
     "output_type": "stream",
     "text": [
      "/var/folders/rr/1lbl1t5j0kb2wdnqfybqczvw0000gn/T/ipykernel_8773/3105957156.py:27: FutureWarning: DataFrame.fillna with 'method' is deprecated and will raise in a future version. Use obj.ffill() or obj.bfill() instead.\n",
      "  df_all = df_all.fillna(method='ffill').fillna(method='bfill')\n"
     ]
    },
    {
     "name": "stdout",
     "output_type": "stream",
     "text": [
      "Объединённый датафрейм:\n",
      "<class 'pandas.core.frame.DataFrame'>\n",
      "DatetimeIndex: 4436 entries, 2008-01-01 to 2024-12-31\n",
      "Freq: B\n",
      "Data columns (total 30 columns):\n",
      " #   Column  Non-Null Count  Dtype  \n",
      "---  ------  --------------  -----  \n",
      " 0   TRMK    4436 non-null   float64\n",
      " 1   PLZL    4436 non-null   float64\n",
      " 2   SBER    4436 non-null   float64\n",
      " 3   ROSN    4436 non-null   float64\n",
      " 4   TATN    4436 non-null   float64\n",
      " 5   TTLK    4436 non-null   float64\n",
      " 6   UTAR    4436 non-null   float64\n",
      " 7   KMAZ    4436 non-null   float64\n",
      " 8   LSRG    4436 non-null   float64\n",
      " 9   MTSS    4436 non-null   float64\n",
      " 10  GMKN    4436 non-null   float64\n",
      " 11  DVEC    4436 non-null   float64\n",
      " 12  IRAO    4436 non-null   float64\n",
      " 13  GLTR    4436 non-null   float64\n",
      " 14  IRKT    4436 non-null   float64\n",
      " 15  MRKC    4436 non-null   float64\n",
      " 16  AFKS    4436 non-null   float64\n",
      " 17  LKOH    4436 non-null   float64\n",
      " 18  RTKM    4436 non-null   float64\n",
      " 19  MAGN    4436 non-null   float64\n",
      " 20  GAZP    4436 non-null   float64\n",
      " 21  NVTK    4436 non-null   float64\n",
      " 22  SNGS    4436 non-null   float64\n",
      " 23  TRNFP   4436 non-null   float64\n",
      " 24  AFLT    4436 non-null   float64\n",
      " 25  VTBR    4436 non-null   float64\n",
      " 26  CHMF    4436 non-null   float64\n",
      " 27  PIKK    4436 non-null   float64\n",
      " 28  NMTP    4436 non-null   float64\n",
      " 29  MGNT    4436 non-null   float64\n",
      "dtypes: float64(30)\n",
      "memory usage: 1.0 MB\n",
      "None\n",
      "              TRMK    PLZL    SBER    ROSN   TATN  TTLK   UTAR   KMAZ    LSRG  \\\n",
      "Date                                                                            \n",
      "2008-01-01  273.08  1153.0  101.85  227.95  154.6   0.3  17.95  131.5  1658.0   \n",
      "2008-01-02  273.08  1153.0  101.85  227.95  154.6   0.3  17.95  131.5  1658.0   \n",
      "2008-01-03  273.08  1153.0  101.85  227.95  154.6   0.3  17.95  131.5  1658.0   \n",
      "2008-01-04  273.08  1153.0  101.85  227.95  154.6   0.3  17.95  131.5  1658.0   \n",
      "2008-01-07  273.08  1153.0  101.85  227.95  154.6   0.3  17.95  131.5  1658.0   \n",
      "\n",
      "              MTSS  ...    GAZP   NVTK   SNGS  TRNFP   AFLT   VTBR   CHMF  \\\n",
      "Date                ...                                                     \n",
      "2008-01-01  375.14  ...  352.69  196.0  30.48  489.9  94.14  608.5  566.1   \n",
      "2008-01-02  375.14  ...  352.69  196.0  30.48  489.9  94.14  608.5  566.1   \n",
      "2008-01-03  375.14  ...  352.69  196.0  30.48  489.9  94.14  608.5  566.1   \n",
      "2008-01-04  375.14  ...  352.69  196.0  30.48  489.9  94.14  608.5  566.1   \n",
      "2008-01-07  375.14  ...  352.69  196.0  30.48  489.9  94.14  608.5  566.1   \n",
      "\n",
      "             PIKK   NMTP    MGNT  \n",
      "Date                              \n",
      "2008-01-01  740.0  6.455  1311.0  \n",
      "2008-01-02  740.0  6.455  1311.0  \n",
      "2008-01-03  740.0  6.455  1311.0  \n",
      "2008-01-04  740.0  6.455  1311.0  \n",
      "2008-01-07  740.0  6.455  1311.0  \n",
      "\n",
      "[5 rows x 30 columns]\n",
      "Сохранено в df_prices.csv\n"
     ]
    }
   ],
   "source": [
    "import pandas as pd\n",
    "import os\n",
    "\n",
    "data_dir = 'dataset'\n",
    "start_date = '2008-01-01'\n",
    "end_date = '2024-12-31'\n",
    "\n",
    "date_index = pd.date_range(start=start_date, end=end_date, freq='B')\n",
    "df_all = pd.DataFrame(index=date_index)\n",
    "\n",
    "for filename in os.listdir(data_dir):\n",
    "    if not filename.endswith('.csv'):\n",
    "        continue\n",
    "    \n",
    "    ticker = filename.replace('_D1.csv', '') \n",
    "    file_path = os.path.join(data_dir, filename)\n",
    "    \n",
    "    df = pd.read_csv(file_path, parse_dates=['datetime'])\n",
    "    df = df[['datetime', 'close']].copy()\n",
    "    df.set_index('datetime', inplace=True)\n",
    "    df = df.rename(columns={'close': ticker})\n",
    "    \n",
    "    df = df.loc[(df.index >= start_date) & (df.index <= end_date)]\n",
    "    \n",
    "    df_all = df_all.join(df, how='left')\n",
    "\n",
    "df_all = df_all.fillna(method='ffill').fillna(method='bfill')\n",
    "\n",
    "df_all.index.name = 'Date'\n",
    "\n",
    "print(\"Объединённый датафрейм:\")\n",
    "print(df_all.info())\n",
    "print(df_all.head())\n",
    "\n",
    "df_all.to_csv('df_prices.csv')\n",
    "print(\"Сохранено в df_prices.csv\")"
   ]
  },
  {
   "cell_type": "code",
   "execution_count": 6,
   "metadata": {},
   "outputs": [
    {
     "name": "stdout",
     "output_type": "stream",
     "text": [
      "\n",
      "🔧 Пропущенные значения: всего 0\n",
      "Series([], dtype: int64)\n"
     ]
    }
   ],
   "source": [
    "missing_values = df_prices.isna().sum()\n",
    "total_missing = missing_values.sum()\n",
    "\n",
    "print(f\"\\nПропущенные значения: всего {total_missing}\")\n",
    "print(missing_values[missing_values > 0].sort_values(ascending=False).head())"
   ]
  },
  {
   "cell_type": "code",
   "execution_count": 7,
   "metadata": {},
   "outputs": [
    {
     "name": "stdout",
     "output_type": "stream",
     "text": [
      "\n",
      "📊 Статистика по ценам закрытия:\n",
      "          mean      std     min       max\n",
      "TRMK     94.63    48.43   13.97    275.70\n",
      "PLZL   5230.69  4808.99  357.00  18592.00\n",
      "SBER    151.99    83.78   14.16    387.60\n",
      "ROSN    327.36   124.54   82.92    655.25\n",
      "TATN    369.96   212.41   27.50    837.00\n",
      "TTLK      0.30     0.26    0.04      1.61\n",
      "UTAR     11.77     5.45    2.25     25.26\n",
      "KMAZ     71.39    45.87   12.30    267.40\n",
      "LSRG    732.34   271.79  108.00   2100.00\n",
      "MTSS    256.90    46.39   93.16    380.00\n",
      "GMKN    108.14    60.84   12.45    281.30\n",
      "DVEC      1.13     0.76    0.15      5.40\n",
      "IRAO      2.17     2.02    0.00      6.50\n",
      "GLTR    116.71   222.58    0.22    844.95\n",
      "IRKT     22.11    21.37    2.74    147.50\n",
      "MRKC      0.49     0.29    0.19      1.47\n",
      "AFKS     21.06     9.01    3.60     48.00\n",
      "LKOH   3510.05  1876.27  740.30   8152.00\n",
      "RTKM    112.25    57.33   52.03    334.99\n",
      "MAGN     30.99    16.89    4.42     79.21\n",
      "GAZP    175.94    54.69   86.60    389.82\n",
      "NVTK    724.75   466.14   45.80   1993.00\n",
      "SNGS     28.96     5.64    8.72     54.17\n",
      "TRNFP  1083.61   573.25   60.00   2310.00\n",
      "AFLT     70.84    38.85   20.34    224.83\n",
      "VTBR    256.58   110.22   72.12    609.00\n",
      "CHMF    760.65   430.17   59.50   2006.00\n",
      "PIKK    361.96   300.02   19.60   1500.00\n",
      "NMTP      5.55     2.81    1.16     16.43\n",
      "MGNT   5510.81  3037.18  290.00  12818.00\n"
     ]
    }
   ],
   "source": [
    "print(\"\\nСтатистика по ценам закрытия:\")\n",
    "print(df_prices.describe().T[['mean', 'std', 'min', 'max']].round(2))"
   ]
  }
 ],
 "metadata": {
  "kernelspec": {
   "display_name": "Python 3",
   "language": "python",
   "name": "python3"
  },
  "language_info": {
   "codemirror_mode": {
    "name": "ipython",
    "version": 3
   },
   "file_extension": ".py",
   "mimetype": "text/x-python",
   "name": "python",
   "nbconvert_exporter": "python",
   "pygments_lexer": "ipython3",
   "version": "3.11.8"
  }
 },
 "nbformat": 4,
 "nbformat_minor": 2
}
